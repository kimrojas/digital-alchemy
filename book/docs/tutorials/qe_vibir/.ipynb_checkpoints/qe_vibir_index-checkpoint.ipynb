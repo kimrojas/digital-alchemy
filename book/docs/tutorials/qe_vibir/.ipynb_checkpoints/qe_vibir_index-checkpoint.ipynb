{
 "cells": [
  {
   "cell_type": "markdown",
   "metadata": {},
   "source": [
    "# "
   ]
  },
  {
   "cell_type": "code",
   "execution_count": 1,
   "metadata": {
    "tags": [
     "hide-input"
    ]
   },
   "outputs": [
    {
     "name": "stdout",
     "output_type": "stream",
     "text": [
      "      Step     Time          Energy         fmax\n",
      "BFGS:    0 10:51:41        2.619811        7.7384\n",
      "BFGS:    1 10:51:41        1.912906        1.3454\n",
      "BFGS:    2 10:51:41        1.882033        0.4035\n",
      "BFGS:    3 10:51:41        1.879275        0.0317\n",
      "BFGS:    4 10:51:41        1.879253        0.0096\n"
     ]
    },
    {
     "data": {
      "text/plain": [
       "True"
      ]
     },
     "execution_count": 1,
     "metadata": {},
     "output_type": "execute_result"
    }
   ],
   "source": [
    "from ase.build import molecule\n",
    "from ase.calculators.emt import EMT\n",
    "from ase.optimize import BFGS\n",
    "from ase.vibrations import Vibrations\n",
    "\n",
    "h2o = molecule('H2O')\n",
    "h2o.calc = EMT()\n",
    "BFGS(h2o).run(fmax=0.01)"
   ]
  },
  {
   "cell_type": "code",
   "execution_count": null,
   "metadata": {},
   "outputs": [],
   "source": []
  },
  {
   "cell_type": "code",
   "execution_count": 3,
   "metadata": {
    "tags": []
   },
   "outputs": [
    {
     "name": "stdout",
     "output_type": "stream",
     "text": [
      "---------------------\n",
      "  #    meV     cm^-1\n",
      "---------------------\n",
      "  0    6.3i     51.0i\n",
      "  1    5.9i     47.6i\n",
      "  2    0.0i      0.3i\n",
      "  3    0.0i      0.1i\n",
      "  4    0.1       0.4\n",
      "  5    5.4      43.8\n",
      "  6   32.1     258.9\n",
      "  7  296.7    2392.7\n",
      "  8  387.4    3124.9\n",
      "---------------------\n",
      "Zero-point energy: 0.361 eV\n"
     ]
    }
   ],
   "source": [
    "vib = Vibrations(h2o)\n",
    "vib.run()\n",
    "vib.summary()"
   ]
  },
  {
   "cell_type": "code",
   "execution_count": 6,
   "metadata": {},
   "outputs": [],
   "source": [
    "vibdata = vib.get_vibrations()"
   ]
  },
  {
   "cell_type": "code",
   "execution_count": 11,
   "metadata": {},
   "outputs": [
    {
     "name": "stdout",
     "output_type": "stream",
     "text": [
      "Atoms(symbols='OH2', pbc=False)\n",
      "Atoms(symbols='OH2', pbc=False)\n",
      "Atoms(symbols='OH2', pbc=False)\n",
      "Atoms(symbols='OH2', pbc=False)\n",
      "Atoms(symbols='OH2', pbc=False)\n",
      "Atoms(symbols='OH2', pbc=False)\n",
      "Atoms(symbols='OH2', pbc=False)\n",
      "Atoms(symbols='OH2', pbc=False)\n",
      "Atoms(symbols='OH2', pbc=False)\n",
      "Atoms(symbols='OH2', pbc=False)\n",
      "Atoms(symbols='OH2', pbc=False)\n",
      "Atoms(symbols='OH2', pbc=False)\n",
      "Atoms(symbols='OH2', pbc=False)\n",
      "Atoms(symbols='OH2', pbc=False)\n",
      "Atoms(symbols='OH2', pbc=False)\n",
      "Atoms(symbols='OH2', pbc=False)\n",
      "Atoms(symbols='OH2', pbc=False)\n",
      "Atoms(symbols='OH2', pbc=False)\n",
      "Atoms(symbols='OH2', pbc=False)\n",
      "Atoms(symbols='OH2', pbc=False)\n",
      "Atoms(symbols='OH2', pbc=False)\n",
      "Atoms(symbols='OH2', pbc=False)\n",
      "Atoms(symbols='OH2', pbc=False)\n",
      "Atoms(symbols='OH2', pbc=False)\n",
      "Atoms(symbols='OH2', pbc=False)\n",
      "Atoms(symbols='OH2', pbc=False)\n",
      "Atoms(symbols='OH2', pbc=False)\n",
      "Atoms(symbols='OH2', pbc=False)\n",
      "Atoms(symbols='OH2', pbc=False)\n",
      "Atoms(symbols='OH2', pbc=False)\n"
     ]
    }
   ],
   "source": [
    "for i in vibdata.iter_animated_mode(0):\n",
    "    print(i)"
   ]
  },
  {
   "cell_type": "code",
   "execution_count": null,
   "metadata": {},
   "outputs": [],
   "source": []
  }
 ],
 "metadata": {
  "kernelspec": {
   "display_name": "Python 3 (ipykernel)",
   "language": "python",
   "name": "python3"
  },
  "language_info": {
   "codemirror_mode": {
    "name": "ipython",
    "version": 3
   },
   "file_extension": ".py",
   "mimetype": "text/x-python",
   "name": "python",
   "nbconvert_exporter": "python",
   "pygments_lexer": "ipython3",
   "version": "3.10.8"
  },
  "toc-autonumbering": true,
  "toc-showcode": true,
  "toc-showtags": false
 },
 "nbformat": 4,
 "nbformat_minor": 4
}
