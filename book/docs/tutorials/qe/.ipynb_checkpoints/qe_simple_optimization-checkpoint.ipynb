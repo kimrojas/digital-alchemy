{
 "cells": [
  {
   "cell_type": "markdown",
   "metadata": {},
   "source": [
    "# Simple Optimization\n",
    "\n",
    "## Introduction\n",
    "\n",
    "The workflow of optimization is built on top of the SCF calculation. Basically, you adjust the structure based on the energy and forces calculated in the SCF calculation. \n",
    "\n",
    "## Input files\n",
    "\n",
    "Similar to the SCF calculation, the input files for optimization are the same. The only difference is that you need to provide additional information about the optimization.\n",
    "\n",
    "|File | Description|\n",
    "|---|---|\n",
    "|SLURM script | Submits the job to the cluster with required resources and environment |\n",
    "|Python script | Controls the workflow |\n",
    "|Structure file | Contains the atomic positions and lattice vectors of your system |\n",
    "\n",
    "### Python file\n",
    "\n",
    "In the python file you need to provide the additional following information:\n",
    "\n",
    "```python\n",
    "from ase.optimize import LBFGS\n",
    "\n",
    "\"... (other parts of the script)\"\n",
    "\n",
    "# Set the Maximum force threshold (fmax) parameter\n",
    "fmax = 1e-4 * Rydberg / Bohr\n",
    "# Initialize the optimizer\n",
    "opt = LBFGS(atm, logfile=\"opt.log\", trajectory=\"opt.traj\", restart=\"opt.pckl\")\n",
    "# Run the optimization\n",
    "opt.run(fmax=fmax)\n",
    "\n",
    "# Save the final structure\n",
    "write(\"relaxed.vasp\", atm)\n",
    "```\n",
    "\n",
    "```{note} LBFGS/BFGS optimizer parameters\n",
    "As you would have noticed, there are parameters set in the initialization of the optimizer. Here are some explanation:\n",
    "\n",
    "- `logfile`\n",
    "    : The file where the optimizer will write the optimization process per iteration.\n",
    "- `trajectory`\n",
    "    : The file where the optimizer will write the trajectory or structure of each iteration.\n",
    "- `restart`\n",
    "    : The file where the optimizer will save the state of the optimization. This is useful when you want to continue the optimization from a certain point.\n",
    "\n",
    "I'll show a safe restart method in the next section. \n",
    "```\n",
    "\n",
    "### Structure file\n",
    "\n",
    "For this tutorial, we try to optimize HB sheet. The structure provided is already in a relaxed form and won't proceed with optimization if we use it. So, we artificially add small random displacements (rattle) to the atomic positions to make the structure not relaxed. \n",
    "\n",
    "```python\n",
    "# Implemented already in the python file\n",
    "\n",
    "# 1. INPUT STRUCTURE FILE\n",
    "# 1.a - Read the input structure file\n",
    "atm = read(\"pristine_vdw.vasp\") # Read the input structure file\n",
    "# 1.b - Apply artificial distortions\n",
    "atm.rattle(stdev=0.0004, seed=0)  # -- Apply a small random displacement to the atoms\n",
    "```\n",
    "\n",
    "Here is a quick look on the unaltered structure and the rattled structure:"
   ]
  },
  {
   "cell_type": "code",
   "execution_count": 13,
   "metadata": {},
   "outputs": [
    {
     "data": {
      "image/png": "[encoded data removed]",
      "text/plain": [
       "<Figure size 1000x500 with 2 Axes>"
      ]
     },
     "metadata": {},
     "output_type": "display_data"
    }
   ],
   "source": [
    "from ase.io import read\n",
    "from pathlib import Path\n",
    "import matplotlib.pyplot as plt\n",
    "from ase.visualize import view\n",
    "\n",
    "cwd = Path.cwd()\n",
    "bookdir = list(cwd.parents)[2]\n",
    "filedir = bookdir / \"files/qe_tutorial/02_01_simple_optimization\"\n",
    "\n",
    "structure_file = filedir / \"pristine_vdw.vasp\"\n",
    "\n",
    "atm = read(structure_file)\n",
    "atm_rattled = atm.copy()\n",
    "atm_rattled.rattle(0.0004, seed=0)\n",
    "\n",
    "fig, ax = plt.subplots(1, 2, figsize=(10, 5))\n",
    "ax[]\n"
   ]
  },
  {
   "cell_type": "code",
   "execution_count": null,
   "metadata": {},
   "outputs": [],
   "source": []
  }
 ],
 "metadata": {
  "kernelspec": {
   "display_name": "Python 3 (ipykernel)",
   "language": "python",
   "name": "python3"
  },
  "language_info": {
   "codemirror_mode": {
    "name": "ipython",
    "version": 3
   },
   "file_extension": ".py",
   "mimetype": "text/x-python",
   "name": "python",
   "nbconvert_exporter": "python",
   "pygments_lexer": "ipython3",
   "version": "3.10.8"
  }
 },
 "nbformat": 4,
 "nbformat_minor": 4
}
